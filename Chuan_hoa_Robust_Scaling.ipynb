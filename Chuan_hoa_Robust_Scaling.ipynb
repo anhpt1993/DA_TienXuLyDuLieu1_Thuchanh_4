{
 "cells": [
  {
   "cell_type": "markdown",
   "id": "b46b935e-9756-4308-a554-88723ad28c36",
   "metadata": {},
   "source": [
    "# 0. Khai báo các dữ liệu cần dùng"
   ]
  },
  {
   "cell_type": "code",
   "execution_count": 1,
   "id": "cf66d455-2ffe-472c-a8b1-862f25abee72",
   "metadata": {},
   "outputs": [],
   "source": [
    "import pandas as pd\n",
    "import numpy as np\n",
    "import matplotlib.pyplot as plt\n",
    "import seaborn as sns\n",
    "from sklearn.preprocessing import RobustScaler"
   ]
  },
  {
   "cell_type": "markdown",
   "id": "18a14cd5-a059-4b95-bc73-ea6c669e3b19",
   "metadata": {
    "tags": []
   },
   "source": [
    "# 1. Khởi tạo dữ liệu"
   ]
  },
  {
   "cell_type": "code",
   "execution_count": 2,
   "id": "5150132a-fe2d-46de-859a-5652a2aa2202",
   "metadata": {},
   "outputs": [],
   "source": [
    "# tạo các cột theo các phần phối khác nhau\n",
    "df = pd.DataFrame({ \n",
    "    'beta': np.random.beta(5, 1, 1000) * 60,        # beta\n",
    "    'exponential': np.random.exponential(10, 1000), # exponential\n",
    "    'normal_p': np.random.normal(10, 2, 1000),      # normal platykurtic\n",
    "    'normal_l': np.random.normal(10, 10, 1000),     # normal leptokurtic\n",
    "})"
   ]
  },
  {
   "cell_type": "code",
   "execution_count": 3,
   "id": "f61e7ff4-67cf-452e-a0e8-e1a600ce4ddd",
   "metadata": {},
   "outputs": [],
   "source": [
    "# thêm dữ liệu được tạo theo phân phối nhị thức\n",
    "first_half = np.random.normal(20, 3, 500) \n",
    "second_half = np.random.normal(-20, 3, 500) \n",
    "bimodal = np.concatenate([first_half, second_half])\n",
    "\n",
    "df['bimodal'] = bimodal"
   ]
  },
  {
   "cell_type": "code",
   "execution_count": 4,
   "id": "8dbf253e-8f10-436f-8862-6124ae1791fd",
   "metadata": {},
   "outputs": [
    {
     "data": {
      "text/html": [
       "<div>\n",
       "<style scoped>\n",
       "    .dataframe tbody tr th:only-of-type {\n",
       "        vertical-align: middle;\n",
       "    }\n",
       "\n",
       "    .dataframe tbody tr th {\n",
       "        vertical-align: top;\n",
       "    }\n",
       "\n",
       "    .dataframe thead th {\n",
       "        text-align: right;\n",
       "    }\n",
       "</style>\n",
       "<table border=\"1\" class=\"dataframe\">\n",
       "  <thead>\n",
       "    <tr style=\"text-align: right;\">\n",
       "      <th></th>\n",
       "      <th>beta</th>\n",
       "      <th>exponential</th>\n",
       "      <th>normal_p</th>\n",
       "      <th>normal_l</th>\n",
       "      <th>bimodal</th>\n",
       "    </tr>\n",
       "  </thead>\n",
       "  <tbody>\n",
       "    <tr>\n",
       "      <th>0</th>\n",
       "      <td>50.939971</td>\n",
       "      <td>1.157952</td>\n",
       "      <td>9.547098</td>\n",
       "      <td>8.020500</td>\n",
       "      <td>25.355882</td>\n",
       "    </tr>\n",
       "    <tr>\n",
       "      <th>1</th>\n",
       "      <td>31.448226</td>\n",
       "      <td>6.782118</td>\n",
       "      <td>10.187586</td>\n",
       "      <td>13.977987</td>\n",
       "      <td>27.615087</td>\n",
       "    </tr>\n",
       "    <tr>\n",
       "      <th>2</th>\n",
       "      <td>48.849537</td>\n",
       "      <td>27.600387</td>\n",
       "      <td>12.834131</td>\n",
       "      <td>5.488194</td>\n",
       "      <td>18.882935</td>\n",
       "    </tr>\n",
       "    <tr>\n",
       "      <th>3</th>\n",
       "      <td>56.388418</td>\n",
       "      <td>4.378068</td>\n",
       "      <td>13.231050</td>\n",
       "      <td>9.212482</td>\n",
       "      <td>18.976151</td>\n",
       "    </tr>\n",
       "    <tr>\n",
       "      <th>4</th>\n",
       "      <td>59.725278</td>\n",
       "      <td>2.976805</td>\n",
       "      <td>9.059594</td>\n",
       "      <td>16.433090</td>\n",
       "      <td>23.102133</td>\n",
       "    </tr>\n",
       "  </tbody>\n",
       "</table>\n",
       "</div>"
      ],
      "text/plain": [
       "        beta  exponential   normal_p   normal_l    bimodal\n",
       "0  50.939971     1.157952   9.547098   8.020500  25.355882\n",
       "1  31.448226     6.782118  10.187586  13.977987  27.615087\n",
       "2  48.849537    27.600387  12.834131   5.488194  18.882935\n",
       "3  56.388418     4.378068  13.231050   9.212482  18.976151\n",
       "4  59.725278     2.976805   9.059594  16.433090  23.102133"
      ]
     },
     "execution_count": 4,
     "metadata": {},
     "output_type": "execute_result"
    }
   ],
   "source": [
    "# Hiển thị dữ liệu\n",
    "df.head()"
   ]
  },
  {
   "cell_type": "markdown",
   "id": "7190835b-3c74-4019-866b-3229563d5ab8",
   "metadata": {},
   "source": [
    "# 2. Trực quan hoá dữ liệu sinh ra"
   ]
  },
  {
   "cell_type": "code",
   "execution_count": 5,
   "id": "8391ae97-3a58-4ee1-9eb1-bde5b1d34c80",
   "metadata": {},
   "outputs": [
    {
     "data": {
      "text/plain": [
       "<AxesSubplot:ylabel='Density'>"
      ]
     },
     "execution_count": 5,
     "metadata": {},
     "output_type": "execute_result"
    },
    {
     "data": {
      "image/png": "[encoded data removed]",
      "text/plain": [
       "<Figure size 432x288 with 1 Axes>"
      ]
     },
     "metadata": {
      "needs_background": "light"
     },
     "output_type": "display_data"
    }
   ],
   "source": [
    "sns.kdeplot(data = df)"
   ]
  },
  {
   "cell_type": "code",
   "execution_count": 6,
   "id": "4b27b0ca-4449-43e0-bc7e-d06fc8c4b66f",
   "metadata": {},
   "outputs": [
    {
     "data": {
      "text/html": [
       "<div>\n",
       "<style scoped>\n",
       "    .dataframe tbody tr th:only-of-type {\n",
       "        vertical-align: middle;\n",
       "    }\n",
       "\n",
       "    .dataframe tbody tr th {\n",
       "        vertical-align: top;\n",
       "    }\n",
       "\n",
       "    .dataframe thead th {\n",
       "        text-align: right;\n",
       "    }\n",
       "</style>\n",
       "<table border=\"1\" class=\"dataframe\">\n",
       "  <thead>\n",
       "    <tr style=\"text-align: right;\">\n",
       "      <th></th>\n",
       "      <th>beta</th>\n",
       "      <th>exponential</th>\n",
       "      <th>normal_p</th>\n",
       "      <th>normal_l</th>\n",
       "      <th>bimodal</th>\n",
       "    </tr>\n",
       "  </thead>\n",
       "  <tbody>\n",
       "    <tr>\n",
       "      <th>count</th>\n",
       "      <td>1000.000000</td>\n",
       "      <td>1000.000000</td>\n",
       "      <td>1000.000000</td>\n",
       "      <td>1000.000000</td>\n",
       "      <td>1000.000000</td>\n",
       "    </tr>\n",
       "    <tr>\n",
       "      <th>mean</th>\n",
       "      <td>49.492749</td>\n",
       "      <td>10.259217</td>\n",
       "      <td>9.943657</td>\n",
       "      <td>10.027579</td>\n",
       "      <td>-0.032513</td>\n",
       "    </tr>\n",
       "    <tr>\n",
       "      <th>std</th>\n",
       "      <td>8.585001</td>\n",
       "      <td>10.041427</td>\n",
       "      <td>2.027722</td>\n",
       "      <td>10.011907</td>\n",
       "      <td>20.170084</td>\n",
       "    </tr>\n",
       "    <tr>\n",
       "      <th>min</th>\n",
       "      <td>12.430067</td>\n",
       "      <td>0.018013</td>\n",
       "      <td>4.318027</td>\n",
       "      <td>-20.873428</td>\n",
       "      <td>-30.158854</td>\n",
       "    </tr>\n",
       "    <tr>\n",
       "      <th>25%</th>\n",
       "      <td>44.637961</td>\n",
       "      <td>2.900538</td>\n",
       "      <td>8.538778</td>\n",
       "      <td>3.031192</td>\n",
       "      <td>-19.815802</td>\n",
       "    </tr>\n",
       "    <tr>\n",
       "      <th>50%</th>\n",
       "      <td>51.665182</td>\n",
       "      <td>7.022316</td>\n",
       "      <td>9.913484</td>\n",
       "      <td>9.970212</td>\n",
       "      <td>0.295178</td>\n",
       "    </tr>\n",
       "    <tr>\n",
       "      <th>75%</th>\n",
       "      <td>56.289409</td>\n",
       "      <td>14.754114</td>\n",
       "      <td>11.387139</td>\n",
       "      <td>17.134384</td>\n",
       "      <td>19.767282</td>\n",
       "    </tr>\n",
       "    <tr>\n",
       "      <th>max</th>\n",
       "      <td>59.995903</td>\n",
       "      <td>65.173667</td>\n",
       "      <td>16.972067</td>\n",
       "      <td>40.352060</td>\n",
       "      <td>29.123567</td>\n",
       "    </tr>\n",
       "  </tbody>\n",
       "</table>\n",
       "</div>"
      ],
      "text/plain": [
       "              beta  exponential     normal_p     normal_l      bimodal\n",
       "count  1000.000000  1000.000000  1000.000000  1000.000000  1000.000000\n",
       "mean     49.492749    10.259217     9.943657    10.027579    -0.032513\n",
       "std       8.585001    10.041427     2.027722    10.011907    20.170084\n",
       "min      12.430067     0.018013     4.318027   -20.873428   -30.158854\n",
       "25%      44.637961     2.900538     8.538778     3.031192   -19.815802\n",
       "50%      51.665182     7.022316     9.913484     9.970212     0.295178\n",
       "75%      56.289409    14.754114    11.387139    17.134384    19.767282\n",
       "max      59.995903    65.173667    16.972067    40.352060    29.123567"
      ]
     },
     "execution_count": 6,
     "metadata": {},
     "output_type": "execute_result"
    }
   ],
   "source": [
    "# Hiển thị thống kê về dữ liệu sinh ra\n",
    "df.describe()"
   ]
  },
  {
   "cell_type": "code",
   "execution_count": 8,
   "id": "e832ed23-47e3-4c5d-9228-831679300262",
   "metadata": {},
   "outputs": [
    {
     "data": {
      "text/plain": [
       "<AxesSubplot:ylabel='Density'>"
      ]
     },
     "execution_count": 8,
     "metadata": {},
     "output_type": "execute_result"
    },
    {
     "data": {
      "image/png": "[encoded data removed]",
      "text/plain": [
       "<Figure size 432x288 with 1 Axes>"
      ]
     },
     "metadata": {
      "needs_background": "light"
     },
     "output_type": "display_data"
    }
   ],
   "source": [
    "# Thêm một đặc trưng mới với giá trị lớn hơn nhiều\n",
    "normal_big = np.random.normal(1000000, 10000, (1000,1))  # normal distribution of large values\n",
    "df['normal_big'] = normal_big\n",
    "sns.kdeplot(data=df)"
   ]
  },
  {
   "cell_type": "code",
   "execution_count": 9,
   "id": "b23df8fb-dbaa-4da8-ba97-9acc5e07227a",
   "metadata": {},
   "outputs": [
    {
     "data": {
      "text/plain": [
       "<AxesSubplot:>"
      ]
     },
     "execution_count": 9,
     "metadata": {},
     "output_type": "execute_result"
    },
    {
     "data": {
      "image/png": "[encoded data removed]",
      "text/plain": [
       "<Figure size 432x288 with 1 Axes>"
      ]
     },
     "metadata": {
      "needs_background": "light"
     },
     "output_type": "display_data"
    }
   ],
   "source": [
    "# Trực quan hoá bằng biểu đồ box plot\n",
    "df.boxplot()"
   ]
  },
  {
   "cell_type": "markdown",
   "id": "334ddd89-8eeb-4c71-b7b7-a7287c9df7ad",
   "metadata": {},
   "source": [
    "# 3. Chuẩn hoá với Robust Scaling"
   ]
  },
  {
   "cell_type": "code",
   "execution_count": 10,
   "id": "256da99a-8cb0-42f2-8c8f-8433d3380b4b",
   "metadata": {},
   "outputs": [],
   "source": [
    "# Khai báo đối tượng Robust Scaler\n",
    "scaler = RobustScaler()"
   ]
  },
  {
   "cell_type": "code",
   "execution_count": 11,
   "id": "ff2c557e-8d2c-49b0-958b-2f2baa795412",
   "metadata": {},
   "outputs": [],
   "source": [
    "# CHuẩn hoá dữ liệu trong df với StandardScaler\n",
    "df_s = scaler.fit_transform(df)\n",
    "\n",
    "# Lấy danh sách cột\n",
    "col_names = list(df.columns)\n",
    "\n",
    "# Chuyển về DataFrame, gán các cột của df cho dữ liệu đã được chuẩn hoá\n",
    "df_s = pd.DataFrame(df_s, columns = col_names)"
   ]
  },
  {
   "cell_type": "code",
   "execution_count": 12,
   "id": "f09727ac-0c2e-47b6-b97a-2d1f23a61ebf",
   "metadata": {},
   "outputs": [
    {
     "data": {
      "text/html": [
       "<div>\n",
       "<style scoped>\n",
       "    .dataframe tbody tr th:only-of-type {\n",
       "        vertical-align: middle;\n",
       "    }\n",
       "\n",
       "    .dataframe tbody tr th {\n",
       "        vertical-align: top;\n",
       "    }\n",
       "\n",
       "    .dataframe thead th {\n",
       "        text-align: right;\n",
       "    }\n",
       "</style>\n",
       "<table border=\"1\" class=\"dataframe\">\n",
       "  <thead>\n",
       "    <tr style=\"text-align: right;\">\n",
       "      <th></th>\n",
       "      <th>beta</th>\n",
       "      <th>exponential</th>\n",
       "      <th>normal_p</th>\n",
       "      <th>normal_l</th>\n",
       "      <th>bimodal</th>\n",
       "      <th>normal_big</th>\n",
       "    </tr>\n",
       "  </thead>\n",
       "  <tbody>\n",
       "    <tr>\n",
       "      <th>0</th>\n",
       "      <td>-0.062242</td>\n",
       "      <td>-0.494734</td>\n",
       "      <td>-0.128631</td>\n",
       "      <td>-0.138246</td>\n",
       "      <td>0.633117</td>\n",
       "      <td>-0.848912</td>\n",
       "    </tr>\n",
       "    <tr>\n",
       "      <th>1</th>\n",
       "      <td>-1.735145</td>\n",
       "      <td>-0.020264</td>\n",
       "      <td>0.096231</td>\n",
       "      <td>0.284175</td>\n",
       "      <td>0.690192</td>\n",
       "      <td>1.193815</td>\n",
       "    </tr>\n",
       "    <tr>\n",
       "      <th>2</th>\n",
       "      <td>-0.241656</td>\n",
       "      <td>1.736022</td>\n",
       "      <td>1.025378</td>\n",
       "      <td>-0.317802</td>\n",
       "      <td>0.469588</td>\n",
       "      <td>-0.597751</td>\n",
       "    </tr>\n",
       "    <tr>\n",
       "      <th>3</th>\n",
       "      <td>0.405378</td>\n",
       "      <td>-0.223076</td>\n",
       "      <td>1.164728</td>\n",
       "      <td>-0.053728</td>\n",
       "      <td>0.471943</td>\n",
       "      <td>-0.394978</td>\n",
       "    </tr>\n",
       "    <tr>\n",
       "      <th>4</th>\n",
       "      <td>0.691768</td>\n",
       "      <td>-0.341290</td>\n",
       "      <td>-0.299783</td>\n",
       "      <td>0.458256</td>\n",
       "      <td>0.576179</td>\n",
       "      <td>-0.301407</td>\n",
       "    </tr>\n",
       "  </tbody>\n",
       "</table>\n",
       "</div>"
      ],
      "text/plain": [
       "       beta  exponential  normal_p  normal_l   bimodal  normal_big\n",
       "0 -0.062242    -0.494734 -0.128631 -0.138246  0.633117   -0.848912\n",
       "1 -1.735145    -0.020264  0.096231  0.284175  0.690192    1.193815\n",
       "2 -0.241656     1.736022  1.025378 -0.317802  0.469588   -0.597751\n",
       "3  0.405378    -0.223076  1.164728 -0.053728  0.471943   -0.394978\n",
       "4  0.691768    -0.341290 -0.299783  0.458256  0.576179   -0.301407"
      ]
     },
     "execution_count": 12,
     "metadata": {},
     "output_type": "execute_result"
    }
   ],
   "source": [
    "df_s.head()"
   ]
  },
  {
   "cell_type": "code",
   "execution_count": 13,
   "id": "75d32327-12c3-4dab-9f20-1955d7fed31c",
   "metadata": {},
   "outputs": [
    {
     "data": {
      "text/plain": [
       "<AxesSubplot:ylabel='Density'>"
      ]
     },
     "execution_count": 13,
     "metadata": {},
     "output_type": "execute_result"
    },
    {
     "data": {
      "image/png": "[encoded data removed]",
      "text/plain": [
       "<Figure size 432x288 with 1 Axes>"
      ]
     },
     "metadata": {
      "needs_background": "light"
     },
     "output_type": "display_data"
    }
   ],
   "source": [
    "# Biểu diễn dữ liệu đã được chuẩn hoá\n",
    "sns.kdeplot(data = df_s)"
   ]
  },
  {
   "cell_type": "code",
   "execution_count": 14,
   "id": "36e31665-c1a9-472a-8af6-18ccff9fd97c",
   "metadata": {},
   "outputs": [
    {
     "data": {
      "text/plain": [
       "<AxesSubplot:>"
      ]
     },
     "execution_count": 14,
     "metadata": {},
     "output_type": "execute_result"
    },
    {
     "data": {
      "image/png": "[encoded data removed]",
      "text/plain": [
       "<Figure size 432x288 with 1 Axes>"
      ]
     },
     "metadata": {
      "needs_background": "light"
     },
     "output_type": "display_data"
    }
   ],
   "source": [
    "# Biểu diễn dữ liệu bằng boxplot\n",
    "df_s.boxplot()"
   ]
  },
  {
   "cell_type": "code",
   "execution_count": 15,
   "id": "8009d7be-c861-4a97-b90c-dc14c6c0a710",
   "metadata": {},
   "outputs": [
    {
     "data": {
      "text/plain": [
       "[-3.3674027669295,\n",
       " -0.5909020621701431,\n",
       " -1.9644483849270322,\n",
       " -2.1869971635464585,\n",
       " -0.7693698716344641,\n",
       " -2.7183157496344186]"
      ]
     },
     "execution_count": 15,
     "metadata": {},
     "output_type": "execute_result"
    }
   ],
   "source": [
    "# Lấy các dữ liệu min ở mỗi cột trong bộ dữ liệu đã được chuẩn hoá\n",
    "mins = [df_s[col].min() for col in df_s.columns]\n",
    "mins"
   ]
  },
  {
   "cell_type": "code",
   "execution_count": 16,
   "id": "e3d6b7d8-0d72-4906-921a-e68cc33607ec",
   "metadata": {},
   "outputs": [
    {
     "data": {
      "text/plain": [
       "[0.7149944880159409,\n",
       " 4.905806484851142,\n",
       " 2.478121430202403,\n",
       " 2.1542532881168492,\n",
       " 0.7283007465945057,\n",
       " 2.853175252069778]"
      ]
     },
     "execution_count": 16,
     "metadata": {},
     "output_type": "execute_result"
    }
   ],
   "source": [
    "# lấy giá trị max ở mỗi cột\n",
    "maxs = [df_s[col].max() for col in df_s.columns]\n",
    "maxs"
   ]
  },
  {
   "cell_type": "code",
   "execution_count": 17,
   "id": "f0493d7d-ae74-4380-a608-798dcd212ea9",
   "metadata": {},
   "outputs": [
    {
     "data": {
      "text/plain": [
       "array([5.16651822e+01, 7.02231596e+00, 9.91348411e+00, 9.97021239e+00,\n",
       "       2.95177999e-01, 1.00011408e+06])"
      ]
     },
     "execution_count": 17,
     "metadata": {},
     "output_type": "execute_result"
    }
   ],
   "source": [
    "# Giá trị trung vị của các đặc trưng của tập dữ liệu gốc\n",
    "scaler.center_"
   ]
  }
 ],
 "metadata": {
  "kernelspec": {
   "display_name": "Python 3 (ipykernel)",
   "language": "python",
   "name": "python3"
  },
  "language_info": {
   "codemirror_mode": {
    "name": "ipython",
    "version": 3
   },
   "file_extension": ".py",
   "mimetype": "text/x-python",
   "name": "python",
   "nbconvert_exporter": "python",
   "pygments_lexer": "ipython3",
   "version": "3.10.1"
  }
 },
 "nbformat": 4,
 "nbformat_minor": 5
}
